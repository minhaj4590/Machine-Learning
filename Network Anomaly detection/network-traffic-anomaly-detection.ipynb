{
 "cells": [
  {
   "cell_type": "code",
   "execution_count": 1,
   "id": "670d06f1",
   "metadata": {
    "execution": {
     "iopub.execute_input": "2023-09-08T13:37:26.645779Z",
     "iopub.status.busy": "2023-09-08T13:37:26.645406Z",
     "iopub.status.idle": "2023-09-08T13:37:37.805777Z",
     "shell.execute_reply": "2023-09-08T13:37:37.804741Z"
    },
    "papermill": {
     "duration": 11.171638,
     "end_time": "2023-09-08T13:37:37.808239",
     "exception": false,
     "start_time": "2023-09-08T13:37:26.636601",
     "status": "completed"
    },
    "tags": []
   },
   "outputs": [
    {
     "name": "stderr",
     "output_type": "stream",
     "text": [
      "/opt/conda/lib/python3.10/site-packages/scipy/__init__.py:146: UserWarning: A NumPy version >=1.16.5 and <1.23.0 is required for this version of SciPy (detected version 1.23.5\n",
      "  warnings.warn(f\"A NumPy version >={np_minversion} and <{np_maxversion}\"\n"
     ]
    }
   ],
   "source": [
    "# Import necessary libraries\n",
    "from tensorflow import keras\n",
    "from tensorflow.keras import layers\n",
    "import pandas as pd\n",
    "import numpy as np\n",
    "import tensorflow as tf\n",
    "import matplotlib.pyplot as plt\n",
    "import seaborn as sns\n",
    "from sklearn.metrics import roc_curve, auc\n",
    "from sklearn.metrics import classification_report, confusion_matrix\n",
    "from sklearn.model_selection import train_test_split\n",
    "from sklearn.preprocessing import StandardScaler\n",
    "from sklearn.ensemble import IsolationForest  # Import Isolation Forest"
   ]
  },
  {
   "cell_type": "code",
   "execution_count": 2,
   "id": "78de594b",
   "metadata": {
    "execution": {
     "iopub.execute_input": "2023-09-08T13:37:37.823186Z",
     "iopub.status.busy": "2023-09-08T13:37:37.822670Z",
     "iopub.status.idle": "2023-09-08T13:37:41.571746Z",
     "shell.execute_reply": "2023-09-08T13:37:41.570705Z"
    },
    "papermill": {
     "duration": 3.7596,
     "end_time": "2023-09-08T13:37:41.574721",
     "exception": false,
     "start_time": "2023-09-08T13:37:37.815121",
     "status": "completed"
    },
    "tags": []
   },
   "outputs": [],
   "source": [
    "# Load the synthetic dataset from kaggle\n",
    "data = pd.read_csv('/kaggle/input/synthetic-network-traffic/synthetic_network_traffic.csv')\n"
   ]
  },
  {
   "cell_type": "code",
   "execution_count": 3,
   "id": "976db7c4",
   "metadata": {
    "execution": {
     "iopub.execute_input": "2023-09-08T13:37:41.588958Z",
     "iopub.status.busy": "2023-09-08T13:37:41.588664Z",
     "iopub.status.idle": "2023-09-08T13:37:41.613286Z",
     "shell.execute_reply": "2023-09-08T13:37:41.612302Z"
    },
    "papermill": {
     "duration": 0.034389,
     "end_time": "2023-09-08T13:37:41.615856",
     "exception": false,
     "start_time": "2023-09-08T13:37:41.581467",
     "status": "completed"
    },
    "tags": []
   },
   "outputs": [],
   "source": [
    "# Feature Engineering: Generate additional features (you can customize this)\n",
    "data['TotalBytes'] = data['BytesSent'] + data['BytesReceived']\n",
    "data['TotalPackets'] = data['PacketsSent'] + data['PacketsReceived']\n"
   ]
  },
  {
   "cell_type": "code",
   "execution_count": 4,
   "id": "a3af3ca0",
   "metadata": {
    "execution": {
     "iopub.execute_input": "2023-09-08T13:37:41.629998Z",
     "iopub.status.busy": "2023-09-08T13:37:41.629706Z",
     "iopub.status.idle": "2023-09-08T13:37:41.681104Z",
     "shell.execute_reply": "2023-09-08T13:37:41.680155Z"
    },
    "papermill": {
     "duration": 0.061291,
     "end_time": "2023-09-08T13:37:41.683652",
     "exception": false,
     "start_time": "2023-09-08T13:37:41.622361",
     "status": "completed"
    },
    "tags": []
   },
   "outputs": [],
   "source": [
    "# Oversample the 'Anomaly' class to balance the class distribution\n",
    "anomaly_data = data[data['IsAnomaly'] == 1]\n",
    "oversampled_data = pd.concat([data, anomaly_data], axis=0)\n"
   ]
  },
  {
   "cell_type": "code",
   "execution_count": 5,
   "id": "f3f63b0f",
   "metadata": {
    "execution": {
     "iopub.execute_input": "2023-09-08T13:37:41.698427Z",
     "iopub.status.busy": "2023-09-08T13:37:41.698087Z",
     "iopub.status.idle": "2023-09-08T13:37:41.742963Z",
     "shell.execute_reply": "2023-09-08T13:37:41.741936Z"
    },
    "papermill": {
     "duration": 0.055046,
     "end_time": "2023-09-08T13:37:41.745224",
     "exception": false,
     "start_time": "2023-09-08T13:37:41.690178",
     "status": "completed"
    },
    "tags": []
   },
   "outputs": [],
   "source": [
    "# Split the dataset into features and labels\n",
    "X = oversampled_data.drop(columns=['IsAnomaly'])  # Features\n",
    "y = oversampled_data['IsAnomaly']  # Labels"
   ]
  },
  {
   "cell_type": "code",
   "execution_count": 6,
   "id": "ce6a5894",
   "metadata": {
    "execution": {
     "iopub.execute_input": "2023-09-08T13:37:41.760838Z",
     "iopub.status.busy": "2023-09-08T13:37:41.760006Z",
     "iopub.status.idle": "2023-09-08T13:37:42.020049Z",
     "shell.execute_reply": "2023-09-08T13:37:42.019069Z"
    },
    "papermill": {
     "duration": 0.270408,
     "end_time": "2023-09-08T13:37:42.022583",
     "exception": false,
     "start_time": "2023-09-08T13:37:41.752175",
     "status": "completed"
    },
    "tags": []
   },
   "outputs": [],
   "source": [
    "# Split the dataset into training, validation, and testing sets\n",
    "X_train, X_temp, y_train, y_temp = train_test_split(X, y, test_size=0.3, random_state=42)\n",
    "X_val, X_test, y_val, y_test = train_test_split(X_temp, y_temp, test_size=0.5, random_state=42)\n"
   ]
  },
  {
   "cell_type": "code",
   "execution_count": 7,
   "id": "111c0fb2",
   "metadata": {
    "execution": {
     "iopub.execute_input": "2023-09-08T13:37:42.036739Z",
     "iopub.status.busy": "2023-09-08T13:37:42.036440Z",
     "iopub.status.idle": "2023-09-08T13:37:42.222218Z",
     "shell.execute_reply": "2023-09-08T13:37:42.221111Z"
    },
    "papermill": {
     "duration": 0.195837,
     "end_time": "2023-09-08T13:37:42.224952",
     "exception": false,
     "start_time": "2023-09-08T13:37:42.029115",
     "status": "completed"
    },
    "tags": []
   },
   "outputs": [],
   "source": [
    "# Standardize the features\n",
    "scaler = StandardScaler()\n",
    "X_train = scaler.fit_transform(X_train)\n",
    "X_val = scaler.transform(X_val)\n",
    "X_test = scaler.transform(X_test)"
   ]
  },
  {
   "cell_type": "code",
   "execution_count": 8,
   "id": "47a9272a",
   "metadata": {
    "execution": {
     "iopub.execute_input": "2023-09-08T13:37:42.241994Z",
     "iopub.status.busy": "2023-09-08T13:37:42.241681Z",
     "iopub.status.idle": "2023-09-08T13:37:59.502238Z",
     "shell.execute_reply": "2023-09-08T13:37:59.501192Z"
    },
    "papermill": {
     "duration": 17.271136,
     "end_time": "2023-09-08T13:37:59.504345",
     "exception": false,
     "start_time": "2023-09-08T13:37:42.233209",
     "status": "completed"
    },
    "tags": []
   },
   "outputs": [
    {
     "data": {
      "text/html": [
       "<style>#sk-container-id-1 {color: black;background-color: white;}#sk-container-id-1 pre{padding: 0;}#sk-container-id-1 div.sk-toggleable {background-color: white;}#sk-container-id-1 label.sk-toggleable__label {cursor: pointer;display: block;width: 100%;margin-bottom: 0;padding: 0.3em;box-sizing: border-box;text-align: center;}#sk-container-id-1 label.sk-toggleable__label-arrow:before {content: \"▸\";float: left;margin-right: 0.25em;color: #696969;}#sk-container-id-1 label.sk-toggleable__label-arrow:hover:before {color: black;}#sk-container-id-1 div.sk-estimator:hover label.sk-toggleable__label-arrow:before {color: black;}#sk-container-id-1 div.sk-toggleable__content {max-height: 0;max-width: 0;overflow: hidden;text-align: left;background-color: #f0f8ff;}#sk-container-id-1 div.sk-toggleable__content pre {margin: 0.2em;color: black;border-radius: 0.25em;background-color: #f0f8ff;}#sk-container-id-1 input.sk-toggleable__control:checked~div.sk-toggleable__content {max-height: 200px;max-width: 100%;overflow: auto;}#sk-container-id-1 input.sk-toggleable__control:checked~label.sk-toggleable__label-arrow:before {content: \"▾\";}#sk-container-id-1 div.sk-estimator input.sk-toggleable__control:checked~label.sk-toggleable__label {background-color: #d4ebff;}#sk-container-id-1 div.sk-label input.sk-toggleable__control:checked~label.sk-toggleable__label {background-color: #d4ebff;}#sk-container-id-1 input.sk-hidden--visually {border: 0;clip: rect(1px 1px 1px 1px);clip: rect(1px, 1px, 1px, 1px);height: 1px;margin: -1px;overflow: hidden;padding: 0;position: absolute;width: 1px;}#sk-container-id-1 div.sk-estimator {font-family: monospace;background-color: #f0f8ff;border: 1px dotted black;border-radius: 0.25em;box-sizing: border-box;margin-bottom: 0.5em;}#sk-container-id-1 div.sk-estimator:hover {background-color: #d4ebff;}#sk-container-id-1 div.sk-parallel-item::after {content: \"\";width: 100%;border-bottom: 1px solid gray;flex-grow: 1;}#sk-container-id-1 div.sk-label:hover label.sk-toggleable__label {background-color: #d4ebff;}#sk-container-id-1 div.sk-serial::before {content: \"\";position: absolute;border-left: 1px solid gray;box-sizing: border-box;top: 0;bottom: 0;left: 50%;z-index: 0;}#sk-container-id-1 div.sk-serial {display: flex;flex-direction: column;align-items: center;background-color: white;padding-right: 0.2em;padding-left: 0.2em;position: relative;}#sk-container-id-1 div.sk-item {position: relative;z-index: 1;}#sk-container-id-1 div.sk-parallel {display: flex;align-items: stretch;justify-content: center;background-color: white;position: relative;}#sk-container-id-1 div.sk-item::before, #sk-container-id-1 div.sk-parallel-item::before {content: \"\";position: absolute;border-left: 1px solid gray;box-sizing: border-box;top: 0;bottom: 0;left: 50%;z-index: -1;}#sk-container-id-1 div.sk-parallel-item {display: flex;flex-direction: column;z-index: 1;position: relative;background-color: white;}#sk-container-id-1 div.sk-parallel-item:first-child::after {align-self: flex-end;width: 50%;}#sk-container-id-1 div.sk-parallel-item:last-child::after {align-self: flex-start;width: 50%;}#sk-container-id-1 div.sk-parallel-item:only-child::after {width: 0;}#sk-container-id-1 div.sk-dashed-wrapped {border: 1px dashed gray;margin: 0 0.4em 0.5em 0.4em;box-sizing: border-box;padding-bottom: 0.4em;background-color: white;}#sk-container-id-1 div.sk-label label {font-family: monospace;font-weight: bold;display: inline-block;line-height: 1.2em;}#sk-container-id-1 div.sk-label-container {text-align: center;}#sk-container-id-1 div.sk-container {/* jupyter's `normalize.less` sets `[hidden] { display: none; }` but bootstrap.min.css set `[hidden] { display: none !important; }` so we also need the `!important` here to be able to override the default hidden behavior on the sphinx rendered scikit-learn.org. See: https://github.com/scikit-learn/scikit-learn/issues/21755 */display: inline-block !important;position: relative;}#sk-container-id-1 div.sk-text-repr-fallback {display: none;}</style><div id=\"sk-container-id-1\" class=\"sk-top-container\"><div class=\"sk-text-repr-fallback\"><pre>IsolationForest(contamination=0.1, random_state=42)</pre><b>In a Jupyter environment, please rerun this cell to show the HTML representation or trust the notebook. <br />On GitHub, the HTML representation is unable to render, please try loading this page with nbviewer.org.</b></div><div class=\"sk-container\" hidden><div class=\"sk-item\"><div class=\"sk-estimator sk-toggleable\"><input class=\"sk-toggleable__control sk-hidden--visually\" id=\"sk-estimator-id-1\" type=\"checkbox\" checked><label for=\"sk-estimator-id-1\" class=\"sk-toggleable__label sk-toggleable__label-arrow\">IsolationForest</label><div class=\"sk-toggleable__content\"><pre>IsolationForest(contamination=0.1, random_state=42)</pre></div></div></div></div></div>"
      ],
      "text/plain": [
       "IsolationForest(contamination=0.1, random_state=42)"
      ]
     },
     "execution_count": 8,
     "metadata": {},
     "output_type": "execute_result"
    }
   ],
   "source": [
    "# Create and fit the Isolation Forest model\n",
    "isolation_forest = IsolationForest(contamination=0.1, random_state=42)\n",
    "isolation_forest.fit(X_train)"
   ]
  },
  {
   "cell_type": "code",
   "execution_count": 9,
   "id": "d8b4acb0",
   "metadata": {
    "execution": {
     "iopub.execute_input": "2023-09-08T13:37:59.519478Z",
     "iopub.status.busy": "2023-09-08T13:37:59.519157Z",
     "iopub.status.idle": "2023-09-08T13:38:02.794735Z",
     "shell.execute_reply": "2023-09-08T13:38:02.793742Z"
    },
    "papermill": {
     "duration": 3.285957,
     "end_time": "2023-09-08T13:38:02.797104",
     "exception": false,
     "start_time": "2023-09-08T13:37:59.511147",
     "status": "completed"
    },
    "tags": []
   },
   "outputs": [],
   "source": [
    "# Predict anomalies using the Isolation Forest\n",
    "y_pred_iforest = isolation_forest.predict(X_test)\n",
    "y_pred_iforest = (y_pred_iforest == -1)  # Convert -1 (anomaly) to 1, 1 (normal) to 0\n"
   ]
  },
  {
   "cell_type": "code",
   "execution_count": 10,
   "id": "d1995316",
   "metadata": {
    "execution": {
     "iopub.execute_input": "2023-09-08T13:38:02.811923Z",
     "iopub.status.busy": "2023-09-08T13:38:02.811624Z",
     "iopub.status.idle": "2023-09-08T13:38:07.240105Z",
     "shell.execute_reply": "2023-09-08T13:38:07.239110Z"
    },
    "papermill": {
     "duration": 4.438662,
     "end_time": "2023-09-08T13:38:07.242610",
     "exception": false,
     "start_time": "2023-09-08T13:38:02.803948",
     "status": "completed"
    },
    "tags": []
   },
   "outputs": [],
   "source": [
    "# Create the deep learning model\n",
    "model = keras.Sequential([\n",
    "    layers.Input(shape=(X_train.shape[1],)),\n",
    "    layers.Dense(64, activation='relu'),\n",
    "    layers.Dense(32, activation='relu'),\n",
    "    layers.Dense(1, activation='sigmoid')  # Binary classification, use 'sigmoid' for anomaly detection\n",
    "])"
   ]
  },
  {
   "cell_type": "code",
   "execution_count": 11,
   "id": "3186adc4",
   "metadata": {
    "execution": {
     "iopub.execute_input": "2023-09-08T13:38:07.259016Z",
     "iopub.status.busy": "2023-09-08T13:38:07.257508Z",
     "iopub.status.idle": "2023-09-08T13:46:40.243884Z",
     "shell.execute_reply": "2023-09-08T13:46:40.242840Z"
    },
    "papermill": {
     "duration": 512.996767,
     "end_time": "2023-09-08T13:46:40.246447",
     "exception": false,
     "start_time": "2023-09-08T13:38:07.249680",
     "status": "completed"
    },
    "tags": []
   },
   "outputs": [
    {
     "name": "stdout",
     "output_type": "stream",
     "text": [
      "Epoch 1/5\n",
      "21985/21985 [==============================] - 95s 4ms/step - loss: 0.0582 - accuracy: 0.9897 - val_loss: 0.0569 - val_accuracy: 0.9900\n",
      "Epoch 2/5\n",
      "21985/21985 [==============================] - 88s 4ms/step - loss: 0.0565 - accuracy: 0.9900 - val_loss: 0.0562 - val_accuracy: 0.9900\n",
      "Epoch 3/5\n",
      "21985/21985 [==============================] - 87s 4ms/step - loss: 0.0563 - accuracy: 0.9900 - val_loss: 0.0563 - val_accuracy: 0.9900\n",
      "Epoch 4/5\n",
      "21985/21985 [==============================] - 89s 4ms/step - loss: 0.0563 - accuracy: 0.9900 - val_loss: 0.0563 - val_accuracy: 0.9900\n",
      "Epoch 5/5\n",
      "21985/21985 [==============================] - 88s 4ms/step - loss: 0.0562 - accuracy: 0.9900 - val_loss: 0.0561 - val_accuracy: 0.9900\n",
      "4711/4711 [==============================] - 7s 2ms/step\n"
     ]
    }
   ],
   "source": [
    "# Compile the model\n",
    "model.compile(optimizer='adam', loss='binary_crossentropy', metrics=['accuracy'])\n",
    "\n",
    "# Train the model\n",
    "history = model.fit(X_train, y_train, epochs=5, batch_size=32, validation_data=(X_val, y_val))\n",
    "\n",
    "# Evaluate the model on the test set\n",
    "y_pred = model.predict(X_test)\n",
    "y_pred = (y_pred > 0.5)  # Apply threshold (adjust as needed)"
   ]
  },
  {
   "cell_type": "code",
   "execution_count": 12,
   "id": "88a684a8",
   "metadata": {
    "execution": {
     "iopub.execute_input": "2023-09-08T13:46:41.554151Z",
     "iopub.status.busy": "2023-09-08T13:46:41.553747Z",
     "iopub.status.idle": "2023-09-08T13:46:41.756903Z",
     "shell.execute_reply": "2023-09-08T13:46:41.755940Z"
    },
    "papermill": {
     "duration": 0.894947,
     "end_time": "2023-09-08T13:46:41.759191",
     "exception": false,
     "start_time": "2023-09-08T13:46:40.864244",
     "status": "completed"
    },
    "tags": []
   },
   "outputs": [],
   "source": [
    "# Confusion Matrix\n",
    "cm = confusion_matrix(y_test, y_pred)\n",
    "\n",
    "# Classification Report\n",
    "report = classification_report(y_test, y_pred, target_names=['Normal', 'Anomaly'], zero_division=1)\n",
    "\n",
    "# Calculate ROC curve and AUC\n",
    "fpr, tpr, _ = roc_curve(y_test, y_pred)\n",
    "roc_auc = auc(fpr, tpr)\n"
   ]
  },
  {
   "cell_type": "code",
   "execution_count": 13,
   "id": "2b73bb00",
   "metadata": {
    "execution": {
     "iopub.execute_input": "2023-09-08T13:46:42.985387Z",
     "iopub.status.busy": "2023-09-08T13:46:42.985002Z",
     "iopub.status.idle": "2023-09-08T13:46:43.360543Z",
     "shell.execute_reply": "2023-09-08T13:46:43.359504Z"
    },
    "papermill": {
     "duration": 0.987456,
     "end_time": "2023-09-08T13:46:43.362703",
     "exception": false,
     "start_time": "2023-09-08T13:46:42.375247",
     "status": "completed"
    },
    "tags": []
   },
   "outputs": [
    {
     "data": {
      "text/plain": [
       "<matplotlib.legend.Legend at 0x7eaf18667640>"
      ]
     },
     "execution_count": 13,
     "metadata": {},
     "output_type": "execute_result"
    },
    {
     "data": {
      "image/png": "[encoded data removed]",
      "text/plain": [
       "<Figure size 800x600 with 1 Axes>"
      ]
     },
     "metadata": {},
     "output_type": "display_data"
    }
   ],
   "source": [
    "# Visualize ROC curve\n",
    "plt.figure(figsize=(8, 6))\n",
    "plt.plot(fpr, tpr, color='darkorange', lw=2, label=f'ROC curve (AUC = {roc_auc:.2f})')\n",
    "plt.plot([0, 1], [0, 1], color='navy', lw=2, linestyle='--')\n",
    "plt.xlim([0.0, 1.0])\n",
    "plt.ylim([0.0, 1.05])\n",
    "plt.xlabel('False Positive Rate')\n",
    "plt.ylabel('True Positive Rate')\n",
    "plt.title('Receiver Operating Characteristic')\n",
    "plt.legend(loc='lower right')"
   ]
  },
  {
   "cell_type": "code",
   "execution_count": 14,
   "id": "e81229b6",
   "metadata": {
    "execution": {
     "iopub.execute_input": "2023-09-08T13:46:44.618918Z",
     "iopub.status.busy": "2023-09-08T13:46:44.618194Z",
     "iopub.status.idle": "2023-09-08T13:46:44.804235Z",
     "shell.execute_reply": "2023-09-08T13:46:44.803030Z"
    },
    "papermill": {
     "duration": 0.792909,
     "end_time": "2023-09-08T13:46:44.807727",
     "exception": false,
     "start_time": "2023-09-08T13:46:44.014818",
     "status": "completed"
    },
    "tags": []
   },
   "outputs": [
    {
     "data": {
      "text/plain": [
       "Text(0.5, 1.0, 'Confusion Matrix')"
      ]
     },
     "execution_count": 14,
     "metadata": {},
     "output_type": "execute_result"
    },
    {
     "data": {
      "image/png": "[encoded data removed]",
      "text/plain": [
       "<Figure size 600x600 with 1 Axes>"
      ]
     },
     "metadata": {},
     "output_type": "display_data"
    }
   ],
   "source": [
    "# Visualize Confusion Matrix\n",
    "plt.figure(figsize=(6, 6))\n",
    "sns.heatmap(cm, annot=True, fmt='d', cmap='Blues', cbar=False,\n",
    "            xticklabels=['Normal', 'Anomaly'], yticklabels=['Normal', 'Anomaly'])\n",
    "plt.xlabel('Predicted')\n",
    "plt.ylabel('Actual')\n",
    "plt.title('Confusion Matrix')\n",
    "\n"
   ]
  },
  {
   "cell_type": "code",
   "execution_count": 15,
   "id": "b554234e",
   "metadata": {
    "execution": {
     "iopub.execute_input": "2023-09-08T13:46:46.062142Z",
     "iopub.status.busy": "2023-09-08T13:46:46.061669Z",
     "iopub.status.idle": "2023-09-08T13:46:46.067626Z",
     "shell.execute_reply": "2023-09-08T13:46:46.066182Z"
    },
    "papermill": {
     "duration": 0.62829,
     "end_time": "2023-09-08T13:46:46.070805",
     "exception": false,
     "start_time": "2023-09-08T13:46:45.442515",
     "status": "completed"
    },
    "tags": []
   },
   "outputs": [
    {
     "name": "stdout",
     "output_type": "stream",
     "text": [
      "              precision    recall  f1-score   support\n",
      "\n",
      "      Normal       0.99      1.00      1.00    149291\n",
      "     Anomaly       1.00      0.00      0.00      1459\n",
      "\n",
      "    accuracy                           0.99    150750\n",
      "   macro avg       1.00      0.50      0.50    150750\n",
      "weighted avg       0.99      0.99      0.99    150750\n",
      "\n"
     ]
    }
   ],
   "source": [
    "# Display Classification Report\n",
    "print(report)"
   ]
  },
  {
   "cell_type": "code",
   "execution_count": null,
   "id": "22bc4ca2",
   "metadata": {
    "papermill": {
     "duration": 0.603181,
     "end_time": "2023-09-08T13:46:47.322569",
     "exception": false,
     "start_time": "2023-09-08T13:46:46.719388",
     "status": "completed"
    },
    "tags": []
   },
   "outputs": [],
   "source": []
  }
 ],
 "metadata": {
  "kernelspec": {
   "display_name": "Python 3",
   "language": "python",
   "name": "python3"
  },
  "language_info": {
   "codemirror_mode": {
    "name": "ipython",
    "version": 3
   },
   "file_extension": ".py",
   "mimetype": "text/x-python",
   "name": "python",
   "nbconvert_exporter": "python",
   "pygments_lexer": "ipython3",
   "version": "3.10.12"
  },
  "papermill": {
   "default_parameters": {},
   "duration": 568.440087,
   "end_time": "2023-09-08T13:46:51.073793",
   "environment_variables": {},
   "exception": null,
   "input_path": "__notebook__.ipynb",
   "output_path": "__notebook__.ipynb",
   "parameters": {},
   "start_time": "2023-09-08T13:37:22.633706",
   "version": "2.4.0"
  }
 },
 "nbformat": 4,
 "nbformat_minor": 5
}
